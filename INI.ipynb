{
 "cells": [
  {
   "cell_type": "code",
   "execution_count": 4,
   "metadata": {
    "collapsed": false
   },
   "outputs": [
    {
     "name": "stdout",
     "output_type": "stream",
     "text": [
      "{'T': 253, 'A': 246, 'C': 229, 'G': 251}\n"
     ]
    }
   ],
   "source": [
    "def INI(filename):\n",
    "    \n",
    "    count = {}\n",
    "\n",
    "    for line in open(filename):\n",
    "        if line.startswith('>'):\n",
    "            pass\n",
    "        else:\n",
    "            line = line.rstrip('\\n').rstrip('*')\n",
    "            for aa in line:\n",
    "                count[aa] = 1 + count.get(aa, 0)\n",
    "\n",
    "    return count\n",
    "\n",
    "file = \"rosalind_ini.txt\"\n",
    "count = DNA(file)\n",
    "print (count)"
   ]
  },
  {
   "cell_type": "code",
   "execution_count": null,
   "metadata": {
    "collapsed": true
   },
   "outputs": [],
   "source": []
  }
 ],
 "metadata": {
  "kernelspec": {
   "display_name": "Python [Root]",
   "language": "python",
   "name": "Python [Root]"
  },
  "language_info": {
   "codemirror_mode": {
    "name": "ipython",
    "version": 3
   },
   "file_extension": ".py",
   "mimetype": "text/x-python",
   "name": "python",
   "nbconvert_exporter": "python",
   "pygments_lexer": "ipython3",
   "version": "3.5.2"
  }
 },
 "nbformat": 4,
 "nbformat_minor": 0
}
