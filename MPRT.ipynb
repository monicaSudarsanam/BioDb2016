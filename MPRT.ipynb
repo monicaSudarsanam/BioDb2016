{
 "cells": [
  {
   "cell_type": "code",
   "execution_count": 1,
   "metadata": {
    "collapsed": false
   },
   "outputs": [
    {
     "name": "stdout",
     "output_type": "stream",
     "text": [
      "P14210_HGF_HUMAN\n",
      "294 402 566 653\n",
      "Q3B391\n",
      "238\n",
      "P02760_HC_HUMAN\n",
      "36 115 250\n",
      "Q9QSP4\n",
      "196 250 326 443\n",
      "P00743_FA10_BOVIN\n",
      "218\n",
      "Q05865\n",
      "389\n",
      "P00744_PRTZ_BOVIN\n",
      "59 191 289\n",
      "P29460_I12B_HUMAN\n",
      "125 135 222 303\n",
      "P05783_K1CR_HUMAN\n",
      "193 423\n",
      "O08537_ESR2_MOUSE\n",
      "17 55 407\n",
      "P01044_KNH1_BOVIN\n",
      "47 87 168 169 197 204\n"
     ]
    }
   ],
   "source": [
    "import sys, re\n",
    "from collections import OrderedDict\n",
    "from urllib.request import urlopen\n",
    "\n",
    "\n",
    "def fastaseq_gen(filename):\n",
    "    with open('rosalind_mprt (1).txt') as f:\n",
    "        for line in f:\n",
    "            uniprot_id = line.strip()\n",
    "\n",
    "            url = 'http://www.uniprot.org/uniprot/{}.fasta'.format(uniprot_id)\n",
    "            with urlopen(url) as f:\n",
    "                fasta_txt = f.read().decode('ascii')\n",
    "\n",
    "            yield (uniprot_id, ''.join(fasta_txt.split('\\n')[1:]))\n",
    "\n",
    "\n",
    "def find_motif(seq):\n",
    "    motif_re = re.compile(r'N[^P][ST][^P]')\n",
    "\n",
    "    positions, last_match = [], 0\n",
    "    while True:\n",
    "        match = motif_re.search(seq, last_match)\n",
    "        if not match:\n",
    "            break\n",
    "\n",
    "        last_match = match.start() + 1\n",
    "        positions.append(last_match)\n",
    "\n",
    "    return positions\n",
    "\n",
    "\n",
    "if __name__ == '__main__':\n",
    "    try:\n",
    "        filename = sys.argv[1]\n",
    "    except IndexError:\n",
    "        print('Missing filename', file=sys.stderr)\n",
    "        sys.exit(1)\n",
    "\n",
    "    for uniprot_id, seq in fastaseq_gen(filename):\n",
    "        motif_positions = find_motif(seq)\n",
    "        if motif_positions:\n",
    "            print(uniprot_id)\n",
    "            print(' '.join(str(pos) for pos in motif_positions))"
   ]
  },
  {
   "cell_type": "code",
   "execution_count": null,
   "metadata": {
    "collapsed": true
   },
   "outputs": [],
   "source": []
  }
 ],
 "metadata": {
  "anaconda-cloud": {},
  "kernelspec": {
   "display_name": "Python [Root]",
   "language": "python",
   "name": "Python [Root]"
  },
  "language_info": {
   "codemirror_mode": {
    "name": "ipython",
    "version": 3
   },
   "file_extension": ".py",
   "mimetype": "text/x-python",
   "name": "python",
   "nbconvert_exporter": "python",
   "pygments_lexer": "ipython3",
   "version": "3.5.2"
  }
 },
 "nbformat": 4,
 "nbformat_minor": 0
}
